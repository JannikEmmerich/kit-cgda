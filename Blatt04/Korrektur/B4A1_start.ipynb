{
 "cells": [
  {
   "cell_type": "code",
   "execution_count": 1,
   "metadata": {},
   "outputs": [],
   "source": [
    "import numpy as np"
   ]
  },
  {
   "cell_type": "code",
   "execution_count": 2,
   "metadata": {},
   "outputs": [
    {
     "name": "stdout",
     "output_type": "stream",
     "text": [
      "[[8 2 3 1]\n",
      " [4 5 6 2]\n",
      " [4 5 7 3]\n",
      " [3 7 0 2]\n",
      " [1 5 8 1]\n",
      " [2 5 4 4]]\n"
     ]
    }
   ],
   "source": [
    "data = np.array([[8, 2, 3, 1], [4, 5, 6, 2],[4, 5, 7, 3],[3, 7, 0, 2],[1, 5, 8, 1],[2, 5, 4, 4]])\n",
    "print(data)"
   ]
  },
  {
   "cell_type": "code",
   "execution_count": 3,
   "metadata": {},
   "outputs": [
    {
     "name": "stdout",
     "output_type": "stream",
     "text": [
      "[3.66666667 4.83333333 4.66666667 2.16666667]\n"
     ]
    }
   ],
   "source": [
    "# Teilaufgabe a\n",
    "expectedValue = np.array([row.mean() for row in data.T])\n",
    "print(expectedValue)"
   ]
  },
  {
   "cell_type": "code",
   "execution_count": 4,
   "metadata": {},
   "outputs": [
    {
     "name": "stdout",
     "output_type": "stream",
     "text": [
      "[[ 4.88888889 -2.38888889 -1.77777778 -0.77777778]\n",
      " [-2.38888889  2.13888889 -0.72222222  0.52777778]\n",
      " [-1.77777778 -0.72222222  7.22222222 -0.11111111]\n",
      " [-0.77777778  0.52777778 -0.11111111  1.13888889]]\n"
     ]
    }
   ],
   "source": [
    "# Teilaufgabe b\n",
    "cov_mat = np.matrix([[np.mean(data.T[i] * data.T[j]) - (expectedValue[i] * expectedValue[j]) for j in range(len(data.T))] for i in range(len(data.T))])\n",
    "print(cov_mat)"
   ]
  },
  {
   "cell_type": "markdown",
   "metadata": {
    "tags": []
   },
   "source": [
    "# Anmerkungen\n",
    "* Vorsicht! Aufgabe b ist nicht richtig. Wenn in der Aufgabe die Anmerkung steht, dass die Aufgabe ohne `np.cov` gelöst werden soll, dann bietet es sich aber dennoch an, die eigene Lösung mit der numpy-Funktion zu vergleichen."
   ]
  },
  {
   "cell_type": "code",
   "execution_count": 5,
   "metadata": {},
   "outputs": [
    {
     "data": {
      "text/plain": [
       "array([[ 5.86666667, -2.86666667, -2.13333333, -0.93333333],\n",
       "       [-2.86666667,  2.56666667, -0.86666667,  0.63333333],\n",
       "       [-2.13333333, -0.86666667,  8.66666667, -0.13333333],\n",
       "       [-0.93333333,  0.63333333, -0.13333333,  1.36666667]])"
      ]
     },
     "execution_count": 5,
     "metadata": {},
     "output_type": "execute_result"
    }
   ],
   "source": [
    "np.cov(data, rowvar=False)"
   ]
  },
  {
   "cell_type": "markdown",
   "metadata": {},
   "source": [
    "* Der Unterschied kommt daher, dass du hier eine Stichprobenkorrektur um $N-1$ brauchst (vgl. Bessel-Korrektur). So wie du deine Werte berechnest, teilst du aber lediglich durch $N$ statt durch $N-1$. Somit sind deine Werte um den Faktor $\\frac{6}{5}$ falsch. Trotzdem trage ich das Testat als bestanden ein."
   ]
  },
  {
   "cell_type": "code",
   "execution_count": 7,
   "metadata": {},
   "outputs": [
    {
     "name": "stdout",
     "output_type": "stream",
     "text": [
      "[[ 5.86666667 -2.86666667 -2.13333333 -0.93333333]\n",
      " [-2.86666667  2.56666667 -0.86666667  0.63333333]\n",
      " [-2.13333333 -0.86666667  8.66666667 -0.13333333]\n",
      " [-0.93333333  0.63333333 -0.13333333  1.36666667]]\n"
     ]
    }
   ],
   "source": [
    "print(cov_mat*6/5)"
   ]
  }
 ],
 "metadata": {
  "kernelspec": {
   "display_name": "Python 3",
   "language": "python",
   "name": "python3"
  },
  "language_info": {
   "codemirror_mode": {
    "name": "ipython",
    "version": 3
   },
   "file_extension": ".py",
   "mimetype": "text/x-python",
   "name": "python",
   "nbconvert_exporter": "python",
   "pygments_lexer": "ipython3",
   "version": "3.8.6"
  }
 },
 "nbformat": 4,
 "nbformat_minor": 4
}
