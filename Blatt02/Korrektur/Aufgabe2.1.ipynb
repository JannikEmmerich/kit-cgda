{
 "cells": [
  {
   "cell_type": "code",
   "execution_count": null,
   "metadata": {},
   "outputs": [],
   "source": [
    "def _factorial(n: int) -> int:\n",
    "    if n <= 1:\n",
    "        return 1\n",
    "    else:\n",
    "        return n * _factorial(n-1)\n",
    "\n",
    "def factorial(n: int) -> int:\n",
    "    print(n, _factorial(n))"
   ]
  },
  {
   "cell_type": "code",
   "execution_count": 2,
   "metadata": {},
   "outputs": [
    {
     "name": "stdout",
     "output_type": "stream",
     "text": [
      "1 1\n",
      "2 2\n",
      "3 6\n",
      "4 24\n",
      "5 120\n",
      "6 720\n",
      "7 5040\n",
      "8 40320\n",
      "9 362880\n",
      "10 3628800\n"
     ]
    }
   ],
   "source": [
    "factorial(1)\n",
    "factorial(2)\n",
    "factorial(3)\n",
    "factorial(4)\n",
    "factorial(5)\n",
    "factorial(6)\n",
    "factorial(7)\n",
    "factorial(8)\n",
    "factorial(9)\n",
    "factorial(10)"
   ]
  },
  {
   "cell_type": "markdown",
   "metadata": {},
   "source": [
    "# Anmerkungen\n",
    "* Ausgabe kann auch über Schleife aufgerufen werden\n",
    "* `factorial()` gibt keinen `int` zurück obwohl das explizit in der Definition steht\n",
    "* In der Regel möchtest du `factorial()` aufrufen und damit weiterrechnen. Deshalb sollte dir tatsächlich die Fakultät über diese Methode zurückgegeben werden. Meiner Meinung nach wäre das Sinnvollste, den print-Befehl nicht in die Methode zu packen. Die Methode sollte die Fakultät zurückgeben (damit theoretisch damit weitergearbeitet werden kann) und der print-Befehl sollte in der Schleife stehen."
   ]
  },
  {
   "cell_type": "code",
   "execution_count": 6,
   "metadata": {},
   "outputs": [
    {
     "name": "stdout",
     "output_type": "stream",
     "text": [
      "2 2\n",
      "3 6\n",
      "4 24\n",
      "5 120\n",
      "6 720\n",
      "7 5040\n",
      "8 40320\n",
      "9 362880\n",
      "10 3628800\n",
      "2 2\n"
     ]
    },
    {
     "data": {
      "text/plain": [
       "NoneType"
      ]
     },
     "execution_count": 6,
     "metadata": {},
     "output_type": "execute_result"
    }
   ],
   "source": [
    "for n in range(2,11):\n",
    "    factorial(n)\n",
    "    # Oder besser, falls factorial einfach die Fakultät als int zurückliefert:\n",
    "    # print(n, factorial(n))\n",
    "    \n",
    "type(factorial(2))"
   ]
  }
 ],
 "metadata": {
  "kernelspec": {
   "display_name": "Python 3",
   "language": "python",
   "name": "python3"
  },
  "language_info": {
   "codemirror_mode": {
    "name": "ipython",
    "version": 3
   },
   "file_extension": ".py",
   "mimetype": "text/x-python",
   "name": "python",
   "nbconvert_exporter": "python",
   "pygments_lexer": "ipython3",
   "version": "3.8.6"
  }
 },
 "nbformat": 4,
 "nbformat_minor": 4
}
