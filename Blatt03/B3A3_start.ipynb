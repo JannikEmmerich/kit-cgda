{
 "cells": [
  {
   "cell_type": "markdown",
   "metadata": {},
   "source": [
    "Vorlage Blatt 3 Aufgbabe 3:"
   ]
  },
  {
   "cell_type": "markdown",
   "metadata": {},
   "source": [
    "# Allgemein\n",
    "\n",
    "Zur Darstellung von Formeln im Markdown-Modus müssen Sie explizit kenntlich machen, wann Sie Text schreiben wollen und wann Sie Formeln mit $\\LaTeX$ darstellen wollen.\n",
    "\n",
    "Der einfachste Weg ist den entsprechenden $\\LaTeX$-Code mit `$`-Symbolen zu umschließen:\n",
    "\n",
    "```\n",
    "$\\alpha^2$\n",
    "```\n",
    "\n",
    "erzeugt folgende Ausgabe:\n",
    "\n",
    "$\\alpha^2$\n",
    "\n",
    "Sie können aber alternativ auch komplette $\\LaTeX$-Umgebungen verwenden.\n",
    "\n",
    "# Nützliche Befehle für Aufgabenteil a)\n",
    "\n",
    "Hochstellen `\\alpha^2` $\\alpha^2$\n",
    "\n",
    "Hochstellen mehrerer Zeichen `\\alpha^{234}` $\\alpha^{234}$\n",
    "\n",
    "Tiefstellen `\\alpha_2` $\\alpha_2$\n",
    "\n",
    "Summe `\\sum` $\\sum$\n",
    "\n",
    "Integral `\\int` $\\int$\n",
    "\n",
    "Dies lässt sich natürlich auch alles kombinieren:\n",
    "\n",
    "`E[x] = \\sum_{i=1}^n x_i P_X(x_i)`\n",
    "\n",
    "$E[x] = \\sum_{i=1}^n x_i P_x(x_i)$"
   ]
  },
  {
   "cell_type": "markdown",
   "metadata": {},
   "source": [
    "Bearbeitung:"
   ]
  },
  {
   "cell_type": "markdown",
   "metadata": {},
   "source": []
  }
 ],
 "metadata": {
  "kernelspec": {
   "display_name": "Python 3",
   "language": "python",
   "name": "python3"
  },
  "language_info": {
   "codemirror_mode": {
    "name": "ipython",
    "version": 3
   },
   "file_extension": ".py",
   "mimetype": "text/x-python",
   "name": "python",
   "nbconvert_exporter": "python",
   "pygments_lexer": "ipython3",
   "version": "3.8.6"
  }
 },
 "nbformat": 4,
 "nbformat_minor": 4
}
