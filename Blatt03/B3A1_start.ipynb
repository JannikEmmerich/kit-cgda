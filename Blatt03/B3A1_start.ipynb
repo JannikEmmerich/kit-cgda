{
 "cells": [
  {
   "cell_type": "markdown",
   "metadata": {},
   "source": [
    "Vorlage Blatt 3 Aufgbabe 1:"
   ]
  },
  {
   "cell_type": "code",
   "execution_count": 1,
   "metadata": {
    "tags": []
   },
   "outputs": [
    {
     "name": "stdout",
     "output_type": "stream",
     "text": [
      "100  numbers read \n",
      " [0 0 3 6 0 2 0 3 1 0 6 3 1 8 8 5 1 8 3 6 4 9 8 8 8 3 1 8 6 3 6 7 1 6 2 3 0\n",
      " 2 3 2 0 2 3 9 3 3 7 0 4 3 5 4 1 0 3 0 8 0 2 2 6 1 2 8 2 2 0 2 1 5 4 2 0 8\n",
      " 7 9 1 9 4 9 4 5 2 7 7 9 9 1 1 3 8 5 5 7 3 2 8 6 6 6]\n"
     ]
    }
   ],
   "source": [
    "import numpy as np\n",
    "\n",
    "# Einlesen der Daten aus der Datei\n",
    "numbers = np.loadtxt('numbers.dat', dtype=int)\n",
    "N = len(numbers)\n",
    "print(N, \" numbers read \\n\", numbers)"
   ]
  },
  {
   "cell_type": "code",
   "execution_count": 2,
   "metadata": {},
   "outputs": [
    {
     "name": "stdout",
     "output_type": "stream",
     "text": [
      "\n",
      "*==* result with numpy functions:\n",
      "mean is 3.99\n",
      "variance is 8.449900000000003\n",
      "standard deviation sigma 2.906871170175934\n",
      "unbiased variance 8.535252525252528\n"
     ]
    }
   ],
   "source": [
    "# numpy Funktionen\n",
    "print(\"\\n*==* result with numpy functions:\")\n",
    "print(\"mean is\", np.mean(numbers))\n",
    "print(\"variance is\", np.var(numbers))\n",
    "print(\"standard deviation sigma\", np.std(numbers))\n",
    "print(\"unbiased variance\", np.var(numbers, ddof=1))"
   ]
  },
  {
   "cell_type": "markdown",
   "metadata": {},
   "source": [
    "Bearbetung:"
   ]
  },
  {
   "cell_type": "code",
   "execution_count": 3,
   "metadata": {},
   "outputs": [],
   "source": [
    "def mean(values):\n",
    "    return sum(values) / len(values)\n",
    "\n",
    "def variance(values):\n",
    "    meanV = mean(values)\n",
    "    sumV = 0\n",
    "    for value in values:\n",
    "        sumV += (value - meanV)**2\n",
    "    return sumV / len(values)\n",
    "\n",
    "def sigma(values):\n",
    "    return variance(values)**(1/2)\n",
    "\n",
    "def variance_unbiased(values):\n",
    "    meanV = mean(values)\n",
    "    sumV = 0\n",
    "    for value in values:\n",
    "        sumV += (value - meanV)**2\n",
    "    return sumV / (len(values) - 1)\n"
   ]
  },
  {
   "cell_type": "code",
   "execution_count": 4,
   "metadata": {},
   "outputs": [
    {
     "name": "stdout",
     "output_type": "stream",
     "text": [
      "\n",
      "*==* result with selfmade functions:\n",
      "mean is 3.99\n",
      "variance is 8.449900000000003\n",
      "standard deviation sigma 2.906871170175934\n",
      "unbiased variance 8.535252525252528\n"
     ]
    }
   ],
   "source": [
    "# selfmade Funktionen\n",
    "print(\"\\n*==* result with selfmade functions:\")\n",
    "print(\"mean is\", mean(numbers))\n",
    "print(\"variance is\", variance(numbers))\n",
    "print(\"standard deviation sigma\", sigma(numbers))\n",
    "print(\"unbiased variance\", variance_unbiased(numbers))"
   ]
  },
  {
   "cell_type": "code",
   "execution_count": 5,
   "metadata": {},
   "outputs": [],
   "source": [
    "# Häufigkeit der einzelnen Ziffern\n",
    "array = np.zeros(10, dtype=int)\n",
    "for i in range(0, 10):\n",
    "    array[i] = np.count_nonzero(numbers == i)"
   ]
  },
  {
   "cell_type": "code",
   "execution_count": 6,
   "metadata": {},
   "outputs": [
    {
     "name": "stdout",
     "output_type": "stream",
     "text": [
      "\n",
      "*==* result with number frequency:\n",
      "mean is 3.99\n",
      "variance is 8.449900000000001\n"
     ]
    }
   ],
   "source": [
    "# Mittelwert und Varianz mithilfe der Häufigkeitsverteilung\n",
    "sumV = 0\n",
    "for i in range(0, 10):\n",
    "    sumV += i * array[i]\n",
    "meanV = sumV / sum(array)\n",
    "\n",
    "sumV = 0\n",
    "for i in range(0, 10):\n",
    "        sumV += array[i] * (i - meanV)**2\n",
    "varianceV = sumV / sum(array)\n",
    "\n",
    "print(\"\\n*==* result with number frequency:\")\n",
    "print(\"mean is\", meanV)\n",
    "print(\"variance is\", varianceV)"
   ]
  }
 ],
 "metadata": {
  "kernelspec": {
   "display_name": "Python 3",
   "language": "python",
   "name": "python3"
  },
  "language_info": {
   "codemirror_mode": {
    "name": "ipython",
    "version": 3
   },
   "file_extension": ".py",
   "mimetype": "text/x-python",
   "name": "python",
   "nbconvert_exporter": "python",
   "pygments_lexer": "ipython3",
   "version": "3.8.6"
  }
 },
 "nbformat": 4,
 "nbformat_minor": 4
}
